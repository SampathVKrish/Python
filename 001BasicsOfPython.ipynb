{
 "cells": [
  {
   "cell_type": "markdown",
   "id": "e1dbcb91-7100-47e8-8949-71de479931c0",
   "metadata": {},
   "source": [
    "# ASSIGNMENT"
   ]
  },
  {
   "cell_type": "markdown",
   "id": "c6abaf27-2b3b-4613-8c24-698469ce0512",
   "metadata": {},
   "source": [
    "### WHAT IS PYTHON ?"
   ]
  },
  {
   "cell_type": "markdown",
   "id": "b0ae350c-d8c5-4395-a755-d17f56da9c0d",
   "metadata": {},
   "source": [
    "Python is a high-level, interpreted programming language known for its simplicity and readability. It is a widely used high-level, interpreted programming language. It was created by Guido van Rossum in 1991 and further developed by the Python Software Foundation. It was designed with an emphasis on code readability, and its syntax allows programmers to express their concepts in fewer lines of code. Python is a programming language that lets you work quickly and integrate systems more efficiently. Python’s simple and readable syntax makes it beginner-friendly and runs seamlessly on Windows, macOS, and Linux. Variable types are determined automatically at runtime, simplifying code writing."
   ]
  },
  {
   "cell_type": "markdown",
   "id": "6cb1d7a1-94fe-4a3d-a704-0cca0f4c51e3",
   "metadata": {},
   "source": [
    "### WHY WE USE PYTHON ?"
   ]
  },
  {
   "cell_type": "markdown",
   "id": "b8bf2982-8040-421f-a94d-baea5f1ad861",
   "metadata": {},
   "source": [
    "Python is widely used because of its simplicity, flexibility, and powerful capabilities. Whether you are a beginner or an experienced developer, both have their own benefits. Python syntax is like plain English, which allows you to focus on logic instead of worrying about complex rules and it has beginner friendly libraries like random, re, os etc, which can be used while learning fundamentals. Python’s error messages are easy to understand and debug when compared with other programming languages. Python has a vast community, meaning you’ll find tutorials, forums, and resources to help with any issues and it has thousands of open-source libraries that make development faster and easier."
   ]
  },
  {
   "cell_type": "markdown",
   "id": "47d6dba0-64f1-4018-9946-32b1cd1ae806",
   "metadata": {},
   "source": [
    "\n",
    "### APPLICATIONS OF PYTHON "
   ]
  },
  {
   "cell_type": "markdown",
   "id": "48196d94-bc78-4ce6-8b85-ede489de42d4",
   "metadata": {},
   "source": [
    "Python is used in a wide range of applications:"
   ]
  },
  {
   "cell_type": "markdown",
   "id": "d0f4f823-e4cd-4e2a-9dbc-d5424bd2d1d3",
   "metadata": {},
   "source": [
    "- Web Development\n",
    "- Data Science\n",
    "- Data Analytics \n",
    "- Machine Learning\n",
    "- Deep Learning\n",
    "- Artificial Intelligence\n",
    "- Automation\n",
    "- Scripting\n",
    "- Game Development\n",
    "- Cybersecurity\n",
    "- Ethical Hacking\n",
    "- Embedded Systems & IoT\n",
    "- Applications Development\n",
    "- Blockchain\n",
    "- Cryptocurrency"
   ]
  },
  {
   "cell_type": "markdown",
   "id": "65bef5bc-be61-4859-9822-768ca87263f3",
   "metadata": {},
   "source": [
    "### EXPLAIN ABOUT COMMENTS WITH EXAMPLES"
   ]
  },
  {
   "cell_type": "markdown",
   "id": "26db17e0-afb3-4049-a316-a2e3f97a7dab",
   "metadata": {},
   "source": [
    "Comments in programming are text notes that provide explanations about the source code without affecting the program's execution. They enhance the readability of the code and help programmers remember complex aspects of the code. Comments can describe what a function does or explain the working of a specific block of code. In most programming languages, comments are written in plain English and are ignored by compilers and interpreters.There are two main types of comments: single-line comments, which are used for brief explanations, and multi-line comments, which can span several lines and are used for more extensive documentation."
   ]
  },
  {
   "cell_type": "markdown",
   "id": "d708bea5-c99e-42d8-8d8d-a333eaae0c28",
   "metadata": {},
   "source": [
    "- Single-Line Comment (#) : Used to add a short note in a single line."
   ]
  },
  {
   "cell_type": "code",
   "execution_count": 1,
   "id": "bab9f2f1-4e53-40e9-a6b6-ea9cf038e880",
   "metadata": {},
   "outputs": [
    {
     "name": "stdout",
     "output_type": "stream",
     "text": [
      "Hello, World!\n"
     ]
    }
   ],
   "source": [
    "# This is a single-line comment\n",
    "print(\"Hello, World!\")  # This prints a message"
   ]
  },
  {
   "cell_type": "markdown",
   "id": "37516c51-0d67-4a98-bee0-7180850c7901",
   "metadata": {},
   "source": [
    "- Multi-Line Comment (''' ''' or \"\"\" \"\"\") : Used to write multiple lines of comments (often for documentation)."
   ]
  },
  {
   "cell_type": "code",
   "execution_count": 6,
   "id": "701dcb4b-7ea5-41c1-90ce-da39deb0ad21",
   "metadata": {},
   "outputs": [
    {
     "name": "stdout",
     "output_type": "stream",
     "text": [
      "Hello, World!\n"
     ]
    }
   ],
   "source": [
    "\"\"\"\n",
    "This is another way\n",
    "to write multi-line comments.\n",
    "\"\"\"\n",
    "print(\"Hello, World!\")"
   ]
  },
  {
   "cell_type": "code",
   "execution_count": 7,
   "id": "0c9a9b32-e7c8-4298-965a-c7eec05da9d5",
   "metadata": {},
   "outputs": [
    {
     "name": "stdout",
     "output_type": "stream",
     "text": [
      "Hello World!\n"
     ]
    }
   ],
   "source": [
    "\"\"\"\n",
    "This is another way\n",
    "to write multi-line comments.\n",
    "\"\"\"\n",
    "print(\"Hello World!\")"
   ]
  },
  {
   "cell_type": "markdown",
   "id": "3a15b98b-662f-416a-be48-51a7f3c1d243",
   "metadata": {},
   "source": [
    "- Docstring (\"\"\" \"\"\" for Documentation) : A docstring is a special type of multi-line comment used to describe functions, classes, and modules."
   ]
  },
  {
   "cell_type": "code",
   "execution_count": 8,
   "id": "165c913b-a57a-4fb0-b7e7-f78fa0aec564",
   "metadata": {},
   "outputs": [
    {
     "name": "stdout",
     "output_type": "stream",
     "text": [
      "8\n"
     ]
    }
   ],
   "source": [
    "def add(a, b):\n",
    "    \"\"\"This function adds two numbers and returns the result.\"\"\"\n",
    "    return a + b\n",
    "\n",
    "print(add(5, 3))  # Output: 8"
   ]
  },
  {
   "cell_type": "markdown",
   "id": "6e1b8445-2c4e-47f4-a202-070a8b1db8e1",
   "metadata": {},
   "source": [
    "### EXPLAIN ABOUT KEYWORDS"
   ]
  },
  {
   "cell_type": "markdown",
   "id": "9458997b-e5e3-4a07-b5c6-bd43de24eb37",
   "metadata": {},
   "source": [
    "Keywords in programming languages are predefined words that have specific meanings and are reserved by the language. They are essential for defining the syntax and structure of the code. This prevents ambiguity and ensures that the code is clear and maintainable. Each programming language has its own set of keywords, which are crucial for writing effective code.These keywords cannot be used as the names of variables, functions, or classes. In Python they are categorized into different types such as value keywords, operator keywords, control flow keywords, and exception handling keywords. \n",
    "- Value keywords include True, False, and None, which represent boolean values and a null value, respectively.\n",
    "- Operator keywords like and, or, and not are used for logical operations\n",
    "- while in and is are used for membership and identity checks.\n",
    "- Control flow keywords such as if, else, elif, for, while, break, continue, and pass are used to control the flow of execution in programs.\n",
    "- Exception handling keywords like try, except, finally, and raise are used to manage and handle exceptions in code."
   ]
  },
  {
   "cell_type": "markdown",
   "id": "2696c4c3-4d9a-4f71-b962-9b9dc474c650",
   "metadata": {},
   "source": [
    "### EXPLAIN ABOUT VARIABLES"
   ]
  },
  {
   "cell_type": "markdown",
   "id": "fea9b302-105b-4a21-bdb3-587b24c83360",
   "metadata": {},
   "source": [
    "In programming languages, a variable is a named storage location paired with an associated symbolic name, which contains some known or unknown quantity of data or object referred to as a value. Essentially, a variable is a named container for a particular set of bits or type of data, such as an integer, float, string, etc. The variable name is the usual way to reference the stored value, allowing the name to be used independently of the exact information it represents. In Python, variables are dynamically typed placeholders for data that do not require explicit type declaration. They are created automatically when you assign a value to them using the equal sign (=). But in Python there are soem rules for naming a variable. Python allows assigning values to multiple variables in a single line. You can also assign the same value to multiple variables."
   ]
  },
  {
   "cell_type": "markdown",
   "id": "77a22e33-8cc5-4ab4-a087-e19bcedd5fe2",
   "metadata": {},
   "source": [
    "#### Rules for Naming Variables\n",
    "- Can contain letters (A-Z, a-z), digits (0-9), and underscores _\n",
    "- Must start with a letter or underscore (e.g., _name, var1)\n",
    "- Cannot start with a number (e.g., 1name )\n",
    "- Cannot use Python keywords (e.g., if = 5 )\n",
    "- Case-sensitive (Name and name are different)"
   ]
  },
  {
   "cell_type": "markdown",
   "id": "c4453786-77e6-492d-ac37-b5e83de7dd7b",
   "metadata": {},
   "source": [
    "#### Variable Scope in Python"
   ]
  },
  {
   "cell_type": "markdown",
   "id": "dc4b3ff9-68e9-4475-a0f8-8c95fe4ba0fe",
   "metadata": {},
   "source": [
    "Scope defines where a variable can be accessed."
   ]
  },
  {
   "cell_type": "markdown",
   "id": "55047060-2125-4e23-a5f2-bd60d0edd9bf",
   "metadata": {},
   "source": [
    "- Local Variable are defined inside the function and can accessed only inside the fuction:"
   ]
  },
  {
   "cell_type": "code",
   "execution_count": 9,
   "id": "34064970-51b0-4fad-b4df-7ad83d667ff5",
   "metadata": {},
   "outputs": [
    {
     "name": "stdout",
     "output_type": "stream",
     "text": [
      "5\n"
     ]
    }
   ],
   "source": [
    "def my_function():\n",
    "    x = 5  # Local variable\n",
    "    print(x)\n",
    "\n",
    "my_function()\n",
    "# print(x)  # ❌ Error: x is not accessible outside the function"
   ]
  },
  {
   "cell_type": "markdown",
   "id": "d49de0bf-8bb8-483b-b25f-967488c3a9cc",
   "metadata": {},
   "source": [
    "- Global Variable are defined outside the function and can be accessed both inside and outside the function:"
   ]
  },
  {
   "cell_type": "code",
   "execution_count": 10,
   "id": "cc334ec7-2f49-4ab7-a930-bbd8d372d26e",
   "metadata": {},
   "outputs": [
    {
     "name": "stdout",
     "output_type": "stream",
     "text": [
      "10\n",
      "10\n"
     ]
    }
   ],
   "source": [
    "y = 10  # Global variable\n",
    "\n",
    "def my_function():\n",
    "    print(y)  # Accessible inside function\n",
    "\n",
    "my_function()\n",
    "print(y)  # Accessible outside function"
   ]
  },
  {
   "cell_type": "markdown",
   "id": "5b2b5466-9860-41b8-9648-1d3d06be09e8",
   "metadata": {},
   "source": [
    "By using 'global' Keyword we can define a global variable inside the function:"
   ]
  },
  {
   "cell_type": "code",
   "execution_count": 11,
   "id": "eafe6529-0e38-4d7f-9ec5-9b7df1337bd5",
   "metadata": {},
   "outputs": [
    {
     "name": "stdout",
     "output_type": "stream",
     "text": [
      "20\n"
     ]
    }
   ],
   "source": [
    "x = 10\n",
    "\n",
    "def change_value():\n",
    "    global x  # Modifies global variable\n",
    "    x = 20\n",
    "\n",
    "change_value()\n",
    "print(x)  # Output: 20"
   ]
  }
 ],
 "metadata": {
  "kernelspec": {
   "display_name": "Python 3 (ipykernel)",
   "language": "python",
   "name": "python3"
  },
  "language_info": {
   "codemirror_mode": {
    "name": "ipython",
    "version": 3
   },
   "file_extension": ".py",
   "mimetype": "text/x-python",
   "name": "python",
   "nbconvert_exporter": "python",
   "pygments_lexer": "ipython3",
   "version": "3.13.1"
  }
 },
 "nbformat": 4,
 "nbformat_minor": 5
}
